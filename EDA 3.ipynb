{
 "cells": [
  {
   "cell_type": "code",
   "execution_count": 1,
   "id": "0299700c",
   "metadata": {},
   "outputs": [],
   "source": [
    "import numpy as np\n",
    "import pandas as pd\n",
    "import matplotlib.pyplot as plt\n",
    "import seaborn as sns"
   ]
  },
  {
   "cell_type": "code",
   "execution_count": 2,
   "id": "d018059d",
   "metadata": {},
   "outputs": [],
   "source": [
    "df = pd.read_csv('final_dataset.csv')"
   ]
  },
  {
   "cell_type": "code",
   "execution_count": 3,
   "id": "9ed8d847",
   "metadata": {},
   "outputs": [
    {
     "data": {
      "text/html": [
       "<div>\n",
       "<style scoped>\n",
       "    .dataframe tbody tr th:only-of-type {\n",
       "        vertical-align: middle;\n",
       "    }\n",
       "\n",
       "    .dataframe tbody tr th {\n",
       "        vertical-align: top;\n",
       "    }\n",
       "\n",
       "    .dataframe thead th {\n",
       "        text-align: right;\n",
       "    }\n",
       "</style>\n",
       "<table border=\"1\" class=\"dataframe\">\n",
       "  <thead>\n",
       "    <tr style=\"text-align: right;\">\n",
       "      <th></th>\n",
       "      <th>Unnamed: 0</th>\n",
       "      <th>Date</th>\n",
       "      <th>stid</th>\n",
       "      <th>Daily_Production</th>\n",
       "      <th>new_distances</th>\n",
       "      <th>min_dist_node</th>\n",
       "      <th>join</th>\n",
       "      <th>tcolc_eatm_0</th>\n",
       "      <th>ulwrf_tatm_0</th>\n",
       "      <th>dlwrf_sfc_0</th>\n",
       "      <th>...</th>\n",
       "      <th>dswrf_sfc_0</th>\n",
       "      <th>tmax_2m_0</th>\n",
       "      <th>tmin_2m_0</th>\n",
       "      <th>pwat_eatm_0</th>\n",
       "      <th>uswrf_sfc_0</th>\n",
       "      <th>spfh_2m_0</th>\n",
       "      <th>ulwrf_sfc_0</th>\n",
       "      <th>tmp_2m_0</th>\n",
       "      <th>apcp_sfc_0</th>\n",
       "      <th>pres_msl_0</th>\n",
       "    </tr>\n",
       "  </thead>\n",
       "  <tbody>\n",
       "    <tr>\n",
       "      <th>0</th>\n",
       "      <td>0</td>\n",
       "      <td>19940101</td>\n",
       "      <td>ACME</td>\n",
       "      <td>12384900</td>\n",
       "      <td>{(33.0, 257.0): 501.30264193302355, (33.0, 258...</td>\n",
       "      <td>(35.0, 262.0)</td>\n",
       "      <td>19940101(35.0, 262.0)</td>\n",
       "      <td>0.002298</td>\n",
       "      <td>254.38380</td>\n",
       "      <td>258.64188</td>\n",
       "      <td>...</td>\n",
       "      <td>219.09091</td>\n",
       "      <td>284.39706</td>\n",
       "      <td>280.26060</td>\n",
       "      <td>8.086300</td>\n",
       "      <td>47.745450</td>\n",
       "      <td>0.003322</td>\n",
       "      <td>364.31980</td>\n",
       "      <td>282.35430</td>\n",
       "      <td>0.000000</td>\n",
       "      <td>102023.780</td>\n",
       "    </tr>\n",
       "    <tr>\n",
       "      <th>1</th>\n",
       "      <td>1</td>\n",
       "      <td>19940102</td>\n",
       "      <td>ACME</td>\n",
       "      <td>11908500</td>\n",
       "      <td>{(33.0, 257.0): 501.30264193302355, (33.0, 258...</td>\n",
       "      <td>(35.0, 262.0)</td>\n",
       "      <td>19940102(35.0, 262.0)</td>\n",
       "      <td>0.069067</td>\n",
       "      <td>231.38722</td>\n",
       "      <td>279.48965</td>\n",
       "      <td>...</td>\n",
       "      <td>166.90909</td>\n",
       "      <td>283.79266</td>\n",
       "      <td>279.78726</td>\n",
       "      <td>11.476501</td>\n",
       "      <td>32.618183</td>\n",
       "      <td>0.003798</td>\n",
       "      <td>358.07530</td>\n",
       "      <td>282.07254</td>\n",
       "      <td>0.031273</td>\n",
       "      <td>101307.500</td>\n",
       "    </tr>\n",
       "    <tr>\n",
       "      <th>2</th>\n",
       "      <td>2</td>\n",
       "      <td>19940103</td>\n",
       "      <td>ACME</td>\n",
       "      <td>12470700</td>\n",
       "      <td>{(33.0, 257.0): 501.30264193302355, (33.0, 258...</td>\n",
       "      <td>(35.0, 262.0)</td>\n",
       "      <td>19940103(35.0, 262.0)</td>\n",
       "      <td>0.001782</td>\n",
       "      <td>241.27985</td>\n",
       "      <td>227.04659</td>\n",
       "      <td>...</td>\n",
       "      <td>225.32729</td>\n",
       "      <td>277.42557</td>\n",
       "      <td>273.05588</td>\n",
       "      <td>6.755241</td>\n",
       "      <td>49.072730</td>\n",
       "      <td>0.002511</td>\n",
       "      <td>335.16843</td>\n",
       "      <td>275.72464</td>\n",
       "      <td>0.000000</td>\n",
       "      <td>101984.920</td>\n",
       "    </tr>\n",
       "    <tr>\n",
       "      <th>3</th>\n",
       "      <td>3</td>\n",
       "      <td>19940104</td>\n",
       "      <td>ACME</td>\n",
       "      <td>12725400</td>\n",
       "      <td>{(33.0, 257.0): 501.30264193302355, (33.0, 258...</td>\n",
       "      <td>(35.0, 262.0)</td>\n",
       "      <td>19940104(35.0, 262.0)</td>\n",
       "      <td>0.003251</td>\n",
       "      <td>244.66994</td>\n",
       "      <td>238.26636</td>\n",
       "      <td>...</td>\n",
       "      <td>226.21817</td>\n",
       "      <td>278.94736</td>\n",
       "      <td>275.17150</td>\n",
       "      <td>5.734901</td>\n",
       "      <td>49.527270</td>\n",
       "      <td>0.002601</td>\n",
       "      <td>342.49518</td>\n",
       "      <td>276.33093</td>\n",
       "      <td>0.000909</td>\n",
       "      <td>102571.125</td>\n",
       "    </tr>\n",
       "    <tr>\n",
       "      <th>4</th>\n",
       "      <td>4</td>\n",
       "      <td>19940105</td>\n",
       "      <td>ACME</td>\n",
       "      <td>10894800</td>\n",
       "      <td>{(33.0, 257.0): 501.30264193302355, (33.0, 258...</td>\n",
       "      <td>(35.0, 262.0)</td>\n",
       "      <td>19940105(35.0, 262.0)</td>\n",
       "      <td>0.025482</td>\n",
       "      <td>242.21690</td>\n",
       "      <td>258.61813</td>\n",
       "      <td>...</td>\n",
       "      <td>219.45454</td>\n",
       "      <td>283.42203</td>\n",
       "      <td>278.55490</td>\n",
       "      <td>9.284234</td>\n",
       "      <td>46.636364</td>\n",
       "      <td>0.003136</td>\n",
       "      <td>353.97708</td>\n",
       "      <td>282.82280</td>\n",
       "      <td>0.000000</td>\n",
       "      <td>100769.320</td>\n",
       "    </tr>\n",
       "  </tbody>\n",
       "</table>\n",
       "<p>5 rows × 22 columns</p>\n",
       "</div>"
      ],
      "text/plain": [
       "   Unnamed: 0      Date  stid  Daily_Production  \\\n",
       "0           0  19940101  ACME          12384900   \n",
       "1           1  19940102  ACME          11908500   \n",
       "2           2  19940103  ACME          12470700   \n",
       "3           3  19940104  ACME          12725400   \n",
       "4           4  19940105  ACME          10894800   \n",
       "\n",
       "                                       new_distances  min_dist_node  \\\n",
       "0  {(33.0, 257.0): 501.30264193302355, (33.0, 258...  (35.0, 262.0)   \n",
       "1  {(33.0, 257.0): 501.30264193302355, (33.0, 258...  (35.0, 262.0)   \n",
       "2  {(33.0, 257.0): 501.30264193302355, (33.0, 258...  (35.0, 262.0)   \n",
       "3  {(33.0, 257.0): 501.30264193302355, (33.0, 258...  (35.0, 262.0)   \n",
       "4  {(33.0, 257.0): 501.30264193302355, (33.0, 258...  (35.0, 262.0)   \n",
       "\n",
       "                    join  tcolc_eatm_0  ulwrf_tatm_0  dlwrf_sfc_0  ...  \\\n",
       "0  19940101(35.0, 262.0)      0.002298     254.38380    258.64188  ...   \n",
       "1  19940102(35.0, 262.0)      0.069067     231.38722    279.48965  ...   \n",
       "2  19940103(35.0, 262.0)      0.001782     241.27985    227.04659  ...   \n",
       "3  19940104(35.0, 262.0)      0.003251     244.66994    238.26636  ...   \n",
       "4  19940105(35.0, 262.0)      0.025482     242.21690    258.61813  ...   \n",
       "\n",
       "   dswrf_sfc_0  tmax_2m_0  tmin_2m_0  pwat_eatm_0  uswrf_sfc_0  spfh_2m_0  \\\n",
       "0    219.09091  284.39706  280.26060     8.086300    47.745450   0.003322   \n",
       "1    166.90909  283.79266  279.78726    11.476501    32.618183   0.003798   \n",
       "2    225.32729  277.42557  273.05588     6.755241    49.072730   0.002511   \n",
       "3    226.21817  278.94736  275.17150     5.734901    49.527270   0.002601   \n",
       "4    219.45454  283.42203  278.55490     9.284234    46.636364   0.003136   \n",
       "\n",
       "   ulwrf_sfc_0   tmp_2m_0  apcp_sfc_0  pres_msl_0  \n",
       "0    364.31980  282.35430    0.000000  102023.780  \n",
       "1    358.07530  282.07254    0.031273  101307.500  \n",
       "2    335.16843  275.72464    0.000000  101984.920  \n",
       "3    342.49518  276.33093    0.000909  102571.125  \n",
       "4    353.97708  282.82280    0.000000  100769.320  \n",
       "\n",
       "[5 rows x 22 columns]"
      ]
     },
     "execution_count": 3,
     "metadata": {},
     "output_type": "execute_result"
    }
   ],
   "source": [
    "df.head()"
   ]
  },
  {
   "cell_type": "code",
   "execution_count": 4,
   "id": "4de1aa88",
   "metadata": {},
   "outputs": [
    {
     "data": {
      "text/html": [
       "<div>\n",
       "<style scoped>\n",
       "    .dataframe tbody tr th:only-of-type {\n",
       "        vertical-align: middle;\n",
       "    }\n",
       "\n",
       "    .dataframe tbody tr th {\n",
       "        vertical-align: top;\n",
       "    }\n",
       "\n",
       "    .dataframe thead th {\n",
       "        text-align: right;\n",
       "    }\n",
       "</style>\n",
       "<table border=\"1\" class=\"dataframe\">\n",
       "  <thead>\n",
       "    <tr style=\"text-align: right;\">\n",
       "      <th></th>\n",
       "      <th>Date</th>\n",
       "      <th>stid</th>\n",
       "      <th>Daily_Production</th>\n",
       "      <th>new_distances</th>\n",
       "      <th>min_dist_node</th>\n",
       "      <th>join</th>\n",
       "      <th>tcolc_eatm_0</th>\n",
       "      <th>ulwrf_tatm_0</th>\n",
       "      <th>dlwrf_sfc_0</th>\n",
       "      <th>tmp_sfc_0</th>\n",
       "      <th>...</th>\n",
       "      <th>dswrf_sfc_0</th>\n",
       "      <th>tmax_2m_0</th>\n",
       "      <th>tmin_2m_0</th>\n",
       "      <th>pwat_eatm_0</th>\n",
       "      <th>uswrf_sfc_0</th>\n",
       "      <th>spfh_2m_0</th>\n",
       "      <th>ulwrf_sfc_0</th>\n",
       "      <th>tmp_2m_0</th>\n",
       "      <th>apcp_sfc_0</th>\n",
       "      <th>pres_msl_0</th>\n",
       "    </tr>\n",
       "  </thead>\n",
       "  <tbody>\n",
       "    <tr>\n",
       "      <th>0</th>\n",
       "      <td>19940101</td>\n",
       "      <td>ACME</td>\n",
       "      <td>12384900</td>\n",
       "      <td>{(33.0, 257.0): 501.30264193302355, (33.0, 258...</td>\n",
       "      <td>(35.0, 262.0)</td>\n",
       "      <td>19940101(35.0, 262.0)</td>\n",
       "      <td>0.002298</td>\n",
       "      <td>254.38380</td>\n",
       "      <td>258.64188</td>\n",
       "      <td>282.54855</td>\n",
       "      <td>...</td>\n",
       "      <td>219.09091</td>\n",
       "      <td>284.39706</td>\n",
       "      <td>280.26060</td>\n",
       "      <td>8.086300</td>\n",
       "      <td>47.745450</td>\n",
       "      <td>0.003322</td>\n",
       "      <td>364.31980</td>\n",
       "      <td>282.35430</td>\n",
       "      <td>0.000000</td>\n",
       "      <td>102023.780</td>\n",
       "    </tr>\n",
       "    <tr>\n",
       "      <th>1</th>\n",
       "      <td>19940102</td>\n",
       "      <td>ACME</td>\n",
       "      <td>11908500</td>\n",
       "      <td>{(33.0, 257.0): 501.30264193302355, (33.0, 258...</td>\n",
       "      <td>(35.0, 262.0)</td>\n",
       "      <td>19940102(35.0, 262.0)</td>\n",
       "      <td>0.069067</td>\n",
       "      <td>231.38722</td>\n",
       "      <td>279.48965</td>\n",
       "      <td>282.33215</td>\n",
       "      <td>...</td>\n",
       "      <td>166.90909</td>\n",
       "      <td>283.79266</td>\n",
       "      <td>279.78726</td>\n",
       "      <td>11.476501</td>\n",
       "      <td>32.618183</td>\n",
       "      <td>0.003798</td>\n",
       "      <td>358.07530</td>\n",
       "      <td>282.07254</td>\n",
       "      <td>0.031273</td>\n",
       "      <td>101307.500</td>\n",
       "    </tr>\n",
       "    <tr>\n",
       "      <th>2</th>\n",
       "      <td>19940103</td>\n",
       "      <td>ACME</td>\n",
       "      <td>12470700</td>\n",
       "      <td>{(33.0, 257.0): 501.30264193302355, (33.0, 258...</td>\n",
       "      <td>(35.0, 262.0)</td>\n",
       "      <td>19940103(35.0, 262.0)</td>\n",
       "      <td>0.001782</td>\n",
       "      <td>241.27985</td>\n",
       "      <td>227.04659</td>\n",
       "      <td>277.42630</td>\n",
       "      <td>...</td>\n",
       "      <td>225.32729</td>\n",
       "      <td>277.42557</td>\n",
       "      <td>273.05588</td>\n",
       "      <td>6.755241</td>\n",
       "      <td>49.072730</td>\n",
       "      <td>0.002511</td>\n",
       "      <td>335.16843</td>\n",
       "      <td>275.72464</td>\n",
       "      <td>0.000000</td>\n",
       "      <td>101984.920</td>\n",
       "    </tr>\n",
       "    <tr>\n",
       "      <th>3</th>\n",
       "      <td>19940104</td>\n",
       "      <td>ACME</td>\n",
       "      <td>12725400</td>\n",
       "      <td>{(33.0, 257.0): 501.30264193302355, (33.0, 258...</td>\n",
       "      <td>(35.0, 262.0)</td>\n",
       "      <td>19940104(35.0, 262.0)</td>\n",
       "      <td>0.003251</td>\n",
       "      <td>244.66994</td>\n",
       "      <td>238.26636</td>\n",
       "      <td>277.47464</td>\n",
       "      <td>...</td>\n",
       "      <td>226.21817</td>\n",
       "      <td>278.94736</td>\n",
       "      <td>275.17150</td>\n",
       "      <td>5.734901</td>\n",
       "      <td>49.527270</td>\n",
       "      <td>0.002601</td>\n",
       "      <td>342.49518</td>\n",
       "      <td>276.33093</td>\n",
       "      <td>0.000909</td>\n",
       "      <td>102571.125</td>\n",
       "    </tr>\n",
       "    <tr>\n",
       "      <th>4</th>\n",
       "      <td>19940105</td>\n",
       "      <td>ACME</td>\n",
       "      <td>10894800</td>\n",
       "      <td>{(33.0, 257.0): 501.30264193302355, (33.0, 258...</td>\n",
       "      <td>(35.0, 262.0)</td>\n",
       "      <td>19940105(35.0, 262.0)</td>\n",
       "      <td>0.025482</td>\n",
       "      <td>242.21690</td>\n",
       "      <td>258.61813</td>\n",
       "      <td>282.66803</td>\n",
       "      <td>...</td>\n",
       "      <td>219.45454</td>\n",
       "      <td>283.42203</td>\n",
       "      <td>278.55490</td>\n",
       "      <td>9.284234</td>\n",
       "      <td>46.636364</td>\n",
       "      <td>0.003136</td>\n",
       "      <td>353.97708</td>\n",
       "      <td>282.82280</td>\n",
       "      <td>0.000000</td>\n",
       "      <td>100769.320</td>\n",
       "    </tr>\n",
       "  </tbody>\n",
       "</table>\n",
       "<p>5 rows × 21 columns</p>\n",
       "</div>"
      ],
      "text/plain": [
       "       Date  stid  Daily_Production  \\\n",
       "0  19940101  ACME          12384900   \n",
       "1  19940102  ACME          11908500   \n",
       "2  19940103  ACME          12470700   \n",
       "3  19940104  ACME          12725400   \n",
       "4  19940105  ACME          10894800   \n",
       "\n",
       "                                       new_distances  min_dist_node  \\\n",
       "0  {(33.0, 257.0): 501.30264193302355, (33.0, 258...  (35.0, 262.0)   \n",
       "1  {(33.0, 257.0): 501.30264193302355, (33.0, 258...  (35.0, 262.0)   \n",
       "2  {(33.0, 257.0): 501.30264193302355, (33.0, 258...  (35.0, 262.0)   \n",
       "3  {(33.0, 257.0): 501.30264193302355, (33.0, 258...  (35.0, 262.0)   \n",
       "4  {(33.0, 257.0): 501.30264193302355, (33.0, 258...  (35.0, 262.0)   \n",
       "\n",
       "                    join  tcolc_eatm_0  ulwrf_tatm_0  dlwrf_sfc_0  tmp_sfc_0  \\\n",
       "0  19940101(35.0, 262.0)      0.002298     254.38380    258.64188  282.54855   \n",
       "1  19940102(35.0, 262.0)      0.069067     231.38722    279.48965  282.33215   \n",
       "2  19940103(35.0, 262.0)      0.001782     241.27985    227.04659  277.42630   \n",
       "3  19940104(35.0, 262.0)      0.003251     244.66994    238.26636  277.47464   \n",
       "4  19940105(35.0, 262.0)      0.025482     242.21690    258.61813  282.66803   \n",
       "\n",
       "   ...  dswrf_sfc_0  tmax_2m_0  tmin_2m_0  pwat_eatm_0  uswrf_sfc_0  \\\n",
       "0  ...    219.09091  284.39706  280.26060     8.086300    47.745450   \n",
       "1  ...    166.90909  283.79266  279.78726    11.476501    32.618183   \n",
       "2  ...    225.32729  277.42557  273.05588     6.755241    49.072730   \n",
       "3  ...    226.21817  278.94736  275.17150     5.734901    49.527270   \n",
       "4  ...    219.45454  283.42203  278.55490     9.284234    46.636364   \n",
       "\n",
       "   spfh_2m_0  ulwrf_sfc_0   tmp_2m_0  apcp_sfc_0  pres_msl_0  \n",
       "0   0.003322    364.31980  282.35430    0.000000  102023.780  \n",
       "1   0.003798    358.07530  282.07254    0.031273  101307.500  \n",
       "2   0.002511    335.16843  275.72464    0.000000  101984.920  \n",
       "3   0.002601    342.49518  276.33093    0.000909  102571.125  \n",
       "4   0.003136    353.97708  282.82280    0.000000  100769.320  \n",
       "\n",
       "[5 rows x 21 columns]"
      ]
     },
     "execution_count": 4,
     "metadata": {},
     "output_type": "execute_result"
    }
   ],
   "source": [
    "df.drop('Unnamed: 0',axis=1).head()"
   ]
  },
  {
   "cell_type": "code",
   "execution_count": 5,
   "id": "c360d36d",
   "metadata": {},
   "outputs": [],
   "source": [
    "df.set_index('Date', inplace=True)"
   ]
  },
  {
   "cell_type": "code",
   "execution_count": 6,
   "id": "a6d6af79",
   "metadata": {},
   "outputs": [
    {
     "data": {
      "text/html": [
       "<div>\n",
       "<style scoped>\n",
       "    .dataframe tbody tr th:only-of-type {\n",
       "        vertical-align: middle;\n",
       "    }\n",
       "\n",
       "    .dataframe tbody tr th {\n",
       "        vertical-align: top;\n",
       "    }\n",
       "\n",
       "    .dataframe thead th {\n",
       "        text-align: right;\n",
       "    }\n",
       "</style>\n",
       "<table border=\"1\" class=\"dataframe\">\n",
       "  <thead>\n",
       "    <tr style=\"text-align: right;\">\n",
       "      <th></th>\n",
       "      <th>Unnamed: 0</th>\n",
       "      <th>stid</th>\n",
       "      <th>Daily_Production</th>\n",
       "      <th>new_distances</th>\n",
       "      <th>min_dist_node</th>\n",
       "      <th>join</th>\n",
       "      <th>tcolc_eatm_0</th>\n",
       "      <th>ulwrf_tatm_0</th>\n",
       "      <th>dlwrf_sfc_0</th>\n",
       "      <th>tmp_sfc_0</th>\n",
       "      <th>...</th>\n",
       "      <th>dswrf_sfc_0</th>\n",
       "      <th>tmax_2m_0</th>\n",
       "      <th>tmin_2m_0</th>\n",
       "      <th>pwat_eatm_0</th>\n",
       "      <th>uswrf_sfc_0</th>\n",
       "      <th>spfh_2m_0</th>\n",
       "      <th>ulwrf_sfc_0</th>\n",
       "      <th>tmp_2m_0</th>\n",
       "      <th>apcp_sfc_0</th>\n",
       "      <th>pres_msl_0</th>\n",
       "    </tr>\n",
       "    <tr>\n",
       "      <th>Date</th>\n",
       "      <th></th>\n",
       "      <th></th>\n",
       "      <th></th>\n",
       "      <th></th>\n",
       "      <th></th>\n",
       "      <th></th>\n",
       "      <th></th>\n",
       "      <th></th>\n",
       "      <th></th>\n",
       "      <th></th>\n",
       "      <th></th>\n",
       "      <th></th>\n",
       "      <th></th>\n",
       "      <th></th>\n",
       "      <th></th>\n",
       "      <th></th>\n",
       "      <th></th>\n",
       "      <th></th>\n",
       "      <th></th>\n",
       "      <th></th>\n",
       "      <th></th>\n",
       "    </tr>\n",
       "  </thead>\n",
       "  <tbody>\n",
       "    <tr>\n",
       "      <th>19940101</th>\n",
       "      <td>0</td>\n",
       "      <td>ACME</td>\n",
       "      <td>12384900</td>\n",
       "      <td>{(33.0, 257.0): 501.30264193302355, (33.0, 258...</td>\n",
       "      <td>(35.0, 262.0)</td>\n",
       "      <td>19940101(35.0, 262.0)</td>\n",
       "      <td>0.002298</td>\n",
       "      <td>254.38380</td>\n",
       "      <td>258.64188</td>\n",
       "      <td>282.54855</td>\n",
       "      <td>...</td>\n",
       "      <td>219.09091</td>\n",
       "      <td>284.39706</td>\n",
       "      <td>280.26060</td>\n",
       "      <td>8.086300</td>\n",
       "      <td>47.745450</td>\n",
       "      <td>0.003322</td>\n",
       "      <td>364.31980</td>\n",
       "      <td>282.35430</td>\n",
       "      <td>0.000000</td>\n",
       "      <td>102023.780</td>\n",
       "    </tr>\n",
       "    <tr>\n",
       "      <th>19940102</th>\n",
       "      <td>1</td>\n",
       "      <td>ACME</td>\n",
       "      <td>11908500</td>\n",
       "      <td>{(33.0, 257.0): 501.30264193302355, (33.0, 258...</td>\n",
       "      <td>(35.0, 262.0)</td>\n",
       "      <td>19940102(35.0, 262.0)</td>\n",
       "      <td>0.069067</td>\n",
       "      <td>231.38722</td>\n",
       "      <td>279.48965</td>\n",
       "      <td>282.33215</td>\n",
       "      <td>...</td>\n",
       "      <td>166.90909</td>\n",
       "      <td>283.79266</td>\n",
       "      <td>279.78726</td>\n",
       "      <td>11.476501</td>\n",
       "      <td>32.618183</td>\n",
       "      <td>0.003798</td>\n",
       "      <td>358.07530</td>\n",
       "      <td>282.07254</td>\n",
       "      <td>0.031273</td>\n",
       "      <td>101307.500</td>\n",
       "    </tr>\n",
       "    <tr>\n",
       "      <th>19940103</th>\n",
       "      <td>2</td>\n",
       "      <td>ACME</td>\n",
       "      <td>12470700</td>\n",
       "      <td>{(33.0, 257.0): 501.30264193302355, (33.0, 258...</td>\n",
       "      <td>(35.0, 262.0)</td>\n",
       "      <td>19940103(35.0, 262.0)</td>\n",
       "      <td>0.001782</td>\n",
       "      <td>241.27985</td>\n",
       "      <td>227.04659</td>\n",
       "      <td>277.42630</td>\n",
       "      <td>...</td>\n",
       "      <td>225.32729</td>\n",
       "      <td>277.42557</td>\n",
       "      <td>273.05588</td>\n",
       "      <td>6.755241</td>\n",
       "      <td>49.072730</td>\n",
       "      <td>0.002511</td>\n",
       "      <td>335.16843</td>\n",
       "      <td>275.72464</td>\n",
       "      <td>0.000000</td>\n",
       "      <td>101984.920</td>\n",
       "    </tr>\n",
       "    <tr>\n",
       "      <th>19940104</th>\n",
       "      <td>3</td>\n",
       "      <td>ACME</td>\n",
       "      <td>12725400</td>\n",
       "      <td>{(33.0, 257.0): 501.30264193302355, (33.0, 258...</td>\n",
       "      <td>(35.0, 262.0)</td>\n",
       "      <td>19940104(35.0, 262.0)</td>\n",
       "      <td>0.003251</td>\n",
       "      <td>244.66994</td>\n",
       "      <td>238.26636</td>\n",
       "      <td>277.47464</td>\n",
       "      <td>...</td>\n",
       "      <td>226.21817</td>\n",
       "      <td>278.94736</td>\n",
       "      <td>275.17150</td>\n",
       "      <td>5.734901</td>\n",
       "      <td>49.527270</td>\n",
       "      <td>0.002601</td>\n",
       "      <td>342.49518</td>\n",
       "      <td>276.33093</td>\n",
       "      <td>0.000909</td>\n",
       "      <td>102571.125</td>\n",
       "    </tr>\n",
       "    <tr>\n",
       "      <th>19940105</th>\n",
       "      <td>4</td>\n",
       "      <td>ACME</td>\n",
       "      <td>10894800</td>\n",
       "      <td>{(33.0, 257.0): 501.30264193302355, (33.0, 258...</td>\n",
       "      <td>(35.0, 262.0)</td>\n",
       "      <td>19940105(35.0, 262.0)</td>\n",
       "      <td>0.025482</td>\n",
       "      <td>242.21690</td>\n",
       "      <td>258.61813</td>\n",
       "      <td>282.66803</td>\n",
       "      <td>...</td>\n",
       "      <td>219.45454</td>\n",
       "      <td>283.42203</td>\n",
       "      <td>278.55490</td>\n",
       "      <td>9.284234</td>\n",
       "      <td>46.636364</td>\n",
       "      <td>0.003136</td>\n",
       "      <td>353.97708</td>\n",
       "      <td>282.82280</td>\n",
       "      <td>0.000000</td>\n",
       "      <td>100769.320</td>\n",
       "    </tr>\n",
       "  </tbody>\n",
       "</table>\n",
       "<p>5 rows × 21 columns</p>\n",
       "</div>"
      ],
      "text/plain": [
       "          Unnamed: 0  stid  Daily_Production  \\\n",
       "Date                                           \n",
       "19940101           0  ACME          12384900   \n",
       "19940102           1  ACME          11908500   \n",
       "19940103           2  ACME          12470700   \n",
       "19940104           3  ACME          12725400   \n",
       "19940105           4  ACME          10894800   \n",
       "\n",
       "                                              new_distances  min_dist_node  \\\n",
       "Date                                                                         \n",
       "19940101  {(33.0, 257.0): 501.30264193302355, (33.0, 258...  (35.0, 262.0)   \n",
       "19940102  {(33.0, 257.0): 501.30264193302355, (33.0, 258...  (35.0, 262.0)   \n",
       "19940103  {(33.0, 257.0): 501.30264193302355, (33.0, 258...  (35.0, 262.0)   \n",
       "19940104  {(33.0, 257.0): 501.30264193302355, (33.0, 258...  (35.0, 262.0)   \n",
       "19940105  {(33.0, 257.0): 501.30264193302355, (33.0, 258...  (35.0, 262.0)   \n",
       "\n",
       "                           join  tcolc_eatm_0  ulwrf_tatm_0  dlwrf_sfc_0  \\\n",
       "Date                                                                       \n",
       "19940101  19940101(35.0, 262.0)      0.002298     254.38380    258.64188   \n",
       "19940102  19940102(35.0, 262.0)      0.069067     231.38722    279.48965   \n",
       "19940103  19940103(35.0, 262.0)      0.001782     241.27985    227.04659   \n",
       "19940104  19940104(35.0, 262.0)      0.003251     244.66994    238.26636   \n",
       "19940105  19940105(35.0, 262.0)      0.025482     242.21690    258.61813   \n",
       "\n",
       "          tmp_sfc_0  ...  dswrf_sfc_0  tmax_2m_0  tmin_2m_0  pwat_eatm_0  \\\n",
       "Date                 ...                                                   \n",
       "19940101  282.54855  ...    219.09091  284.39706  280.26060     8.086300   \n",
       "19940102  282.33215  ...    166.90909  283.79266  279.78726    11.476501   \n",
       "19940103  277.42630  ...    225.32729  277.42557  273.05588     6.755241   \n",
       "19940104  277.47464  ...    226.21817  278.94736  275.17150     5.734901   \n",
       "19940105  282.66803  ...    219.45454  283.42203  278.55490     9.284234   \n",
       "\n",
       "          uswrf_sfc_0  spfh_2m_0  ulwrf_sfc_0   tmp_2m_0  apcp_sfc_0  \\\n",
       "Date                                                                   \n",
       "19940101    47.745450   0.003322    364.31980  282.35430    0.000000   \n",
       "19940102    32.618183   0.003798    358.07530  282.07254    0.031273   \n",
       "19940103    49.072730   0.002511    335.16843  275.72464    0.000000   \n",
       "19940104    49.527270   0.002601    342.49518  276.33093    0.000909   \n",
       "19940105    46.636364   0.003136    353.97708  282.82280    0.000000   \n",
       "\n",
       "          pres_msl_0  \n",
       "Date                  \n",
       "19940101  102023.780  \n",
       "19940102  101307.500  \n",
       "19940103  101984.920  \n",
       "19940104  102571.125  \n",
       "19940105  100769.320  \n",
       "\n",
       "[5 rows x 21 columns]"
      ]
     },
     "execution_count": 6,
     "metadata": {},
     "output_type": "execute_result"
    }
   ],
   "source": [
    "df.head()"
   ]
  },
  {
   "cell_type": "code",
   "execution_count": 7,
   "id": "f118d555",
   "metadata": {},
   "outputs": [],
   "source": [
    "X1 = df[[ 'ulwrf_tatm_0', 'dlwrf_sfc_0', 'tmp_sfc_0', \\\n",
    "        'dswrf_sfc_0', 'tmax_2m_0', 'tmin_2m_0', 'pwat_eatm_0', \\\n",
    "       'uswrf_sfc_0', 'spfh_2m_0', 'ulwrf_sfc_0', 'tmp_2m_0','pres_msl_0']]"
   ]
  },
  {
   "cell_type": "code",
   "execution_count": 8,
   "id": "f6734465",
   "metadata": {},
   "outputs": [],
   "source": [
    "y1 = df['Daily_Production']"
   ]
  },
  {
   "cell_type": "code",
   "execution_count": 9,
   "id": "833c7be3",
   "metadata": {},
   "outputs": [],
   "source": [
    "from sklearn.model_selection import train_test_split"
   ]
  },
  {
   "cell_type": "code",
   "execution_count": 10,
   "id": "6c47f4f8",
   "metadata": {},
   "outputs": [],
   "source": [
    " X_train, X_test, y_train, y_test = train_test_split(X1, y1, test_size=0.2, random_state=101)"
   ]
  },
  {
   "cell_type": "code",
   "execution_count": 11,
   "id": "790f144f",
   "metadata": {},
   "outputs": [],
   "source": [
    "from sklearn.linear_model import LinearRegression"
   ]
  },
  {
   "cell_type": "code",
   "execution_count": 12,
   "id": "2aa6e6a3",
   "metadata": {},
   "outputs": [],
   "source": [
    "model = LinearRegression()"
   ]
  },
  {
   "cell_type": "code",
   "execution_count": 13,
   "id": "5a81b631",
   "metadata": {},
   "outputs": [
    {
     "data": {
      "text/html": [
       "<style>#sk-container-id-1 {color: black;}#sk-container-id-1 pre{padding: 0;}#sk-container-id-1 div.sk-toggleable {background-color: white;}#sk-container-id-1 label.sk-toggleable__label {cursor: pointer;display: block;width: 100%;margin-bottom: 0;padding: 0.3em;box-sizing: border-box;text-align: center;}#sk-container-id-1 label.sk-toggleable__label-arrow:before {content: \"▸\";float: left;margin-right: 0.25em;color: #696969;}#sk-container-id-1 label.sk-toggleable__label-arrow:hover:before {color: black;}#sk-container-id-1 div.sk-estimator:hover label.sk-toggleable__label-arrow:before {color: black;}#sk-container-id-1 div.sk-toggleable__content {max-height: 0;max-width: 0;overflow: hidden;text-align: left;background-color: #f0f8ff;}#sk-container-id-1 div.sk-toggleable__content pre {margin: 0.2em;color: black;border-radius: 0.25em;background-color: #f0f8ff;}#sk-container-id-1 input.sk-toggleable__control:checked~div.sk-toggleable__content {max-height: 200px;max-width: 100%;overflow: auto;}#sk-container-id-1 input.sk-toggleable__control:checked~label.sk-toggleable__label-arrow:before {content: \"▾\";}#sk-container-id-1 div.sk-estimator input.sk-toggleable__control:checked~label.sk-toggleable__label {background-color: #d4ebff;}#sk-container-id-1 div.sk-label input.sk-toggleable__control:checked~label.sk-toggleable__label {background-color: #d4ebff;}#sk-container-id-1 input.sk-hidden--visually {border: 0;clip: rect(1px 1px 1px 1px);clip: rect(1px, 1px, 1px, 1px);height: 1px;margin: -1px;overflow: hidden;padding: 0;position: absolute;width: 1px;}#sk-container-id-1 div.sk-estimator {font-family: monospace;background-color: #f0f8ff;border: 1px dotted black;border-radius: 0.25em;box-sizing: border-box;margin-bottom: 0.5em;}#sk-container-id-1 div.sk-estimator:hover {background-color: #d4ebff;}#sk-container-id-1 div.sk-parallel-item::after {content: \"\";width: 100%;border-bottom: 1px solid gray;flex-grow: 1;}#sk-container-id-1 div.sk-label:hover label.sk-toggleable__label {background-color: #d4ebff;}#sk-container-id-1 div.sk-serial::before {content: \"\";position: absolute;border-left: 1px solid gray;box-sizing: border-box;top: 0;bottom: 0;left: 50%;z-index: 0;}#sk-container-id-1 div.sk-serial {display: flex;flex-direction: column;align-items: center;background-color: white;padding-right: 0.2em;padding-left: 0.2em;position: relative;}#sk-container-id-1 div.sk-item {position: relative;z-index: 1;}#sk-container-id-1 div.sk-parallel {display: flex;align-items: stretch;justify-content: center;background-color: white;position: relative;}#sk-container-id-1 div.sk-item::before, #sk-container-id-1 div.sk-parallel-item::before {content: \"\";position: absolute;border-left: 1px solid gray;box-sizing: border-box;top: 0;bottom: 0;left: 50%;z-index: -1;}#sk-container-id-1 div.sk-parallel-item {display: flex;flex-direction: column;z-index: 1;position: relative;background-color: white;}#sk-container-id-1 div.sk-parallel-item:first-child::after {align-self: flex-end;width: 50%;}#sk-container-id-1 div.sk-parallel-item:last-child::after {align-self: flex-start;width: 50%;}#sk-container-id-1 div.sk-parallel-item:only-child::after {width: 0;}#sk-container-id-1 div.sk-dashed-wrapped {border: 1px dashed gray;margin: 0 0.4em 0.5em 0.4em;box-sizing: border-box;padding-bottom: 0.4em;background-color: white;}#sk-container-id-1 div.sk-label label {font-family: monospace;font-weight: bold;display: inline-block;line-height: 1.2em;}#sk-container-id-1 div.sk-label-container {text-align: center;}#sk-container-id-1 div.sk-container {/* jupyter's `normalize.less` sets `[hidden] { display: none; }` but bootstrap.min.css set `[hidden] { display: none !important; }` so we also need the `!important` here to be able to override the default hidden behavior on the sphinx rendered scikit-learn.org. See: https://github.com/scikit-learn/scikit-learn/issues/21755 */display: inline-block !important;position: relative;}#sk-container-id-1 div.sk-text-repr-fallback {display: none;}</style><div id=\"sk-container-id-1\" class=\"sk-top-container\"><div class=\"sk-text-repr-fallback\"><pre>LinearRegression()</pre><b>In a Jupyter environment, please rerun this cell to show the HTML representation or trust the notebook. <br />On GitHub, the HTML representation is unable to render, please try loading this page with nbviewer.org.</b></div><div class=\"sk-container\" hidden><div class=\"sk-item\"><div class=\"sk-estimator sk-toggleable\"><input class=\"sk-toggleable__control sk-hidden--visually\" id=\"sk-estimator-id-1\" type=\"checkbox\" checked><label for=\"sk-estimator-id-1\" class=\"sk-toggleable__label sk-toggleable__label-arrow\">LinearRegression</label><div class=\"sk-toggleable__content\"><pre>LinearRegression()</pre></div></div></div></div></div>"
      ],
      "text/plain": [
       "LinearRegression()"
      ]
     },
     "execution_count": 13,
     "metadata": {},
     "output_type": "execute_result"
    }
   ],
   "source": [
    "model.fit(X_train,y_train)"
   ]
  },
  {
   "cell_type": "code",
   "execution_count": 14,
   "id": "efc40b9f",
   "metadata": {},
   "outputs": [],
   "source": [
    "test_predictions = model.predict(X_test)"
   ]
  },
  {
   "cell_type": "code",
   "execution_count": 15,
   "id": "d7567f51",
   "metadata": {},
   "outputs": [
    {
     "data": {
      "text/plain": [
       "array([ 3856768.12224582, 22483872.13520828,   126879.76018825, ...,\n",
       "       11718625.49123362, 23421001.87308657, 10289383.08754636])"
      ]
     },
     "execution_count": 15,
     "metadata": {},
     "output_type": "execute_result"
    }
   ],
   "source": [
    "test_predictions"
   ]
  },
  {
   "cell_type": "code",
   "execution_count": 16,
   "id": "fcf3a6fb",
   "metadata": {},
   "outputs": [],
   "source": [
    "from sklearn.metrics import mean_absolute_error, mean_squared_error"
   ]
  },
  {
   "cell_type": "code",
   "execution_count": 17,
   "id": "8ba73b2f",
   "metadata": {},
   "outputs": [
    {
     "data": {
      "text/plain": [
       "2516850.625769281"
      ]
     },
     "execution_count": 17,
     "metadata": {},
     "output_type": "execute_result"
    }
   ],
   "source": [
    "mean_absolute_error(y_test,test_predictions)"
   ]
  },
  {
   "cell_type": "code",
   "execution_count": 18,
   "id": "00fa1276",
   "metadata": {},
   "outputs": [
    {
     "data": {
      "text/plain": [
       "3516800.5383965126"
      ]
     },
     "execution_count": 18,
     "metadata": {},
     "output_type": "execute_result"
    }
   ],
   "source": [
    "np.sqrt(mean_squared_error(y_test,test_predictions))"
   ]
  },
  {
   "cell_type": "code",
   "execution_count": 19,
   "id": "5e04e463",
   "metadata": {},
   "outputs": [],
   "source": [
    "test_residuals = y_test - test_predictions "
   ]
  },
  {
   "cell_type": "code",
   "execution_count": 20,
   "id": "8e97952e",
   "metadata": {},
   "outputs": [
    {
     "data": {
      "text/plain": [
       "Date\n",
       "20061217    2.291132e+06\n",
       "19980814    1.317228e+06\n",
       "20071125    1.180520e+06\n",
       "19980507    4.610164e+04\n",
       "19961212   -7.905691e+05\n",
       "                ...     \n",
       "20041105   -2.040123e+06\n",
       "19960902   -4.032102e+06\n",
       "20041215   -1.629925e+06\n",
       "19980814   -5.133019e+05\n",
       "19951113    4.461169e+05\n",
       "Name: Daily_Production, Length: 100215, dtype: float64"
      ]
     },
     "execution_count": 20,
     "metadata": {},
     "output_type": "execute_result"
    }
   ],
   "source": [
    "test_residuals"
   ]
  },
  {
   "cell_type": "code",
   "execution_count": 21,
   "id": "c9d31bc3",
   "metadata": {},
   "outputs": [
    {
     "data": {
      "text/plain": [
       "<matplotlib.lines.Line2D at 0x22322308350>"
      ]
     },
     "execution_count": 21,
     "metadata": {},
     "output_type": "execute_result"
    },
    {
     "data": {
      "image/png": "[encoded data removed]",
      "text/plain": [
       "<Figure size 640x480 with 1 Axes>"
      ]
     },
     "metadata": {},
     "output_type": "display_data"
    }
   ],
   "source": [
    "sns.scatterplot(x=y_test,y=test_residuals)\n",
    "plt.axhline(y=0,color='r',ls='--')"
   ]
  },
  {
   "cell_type": "code",
   "execution_count": 22,
   "id": "09d0b167",
   "metadata": {},
   "outputs": [
    {
     "name": "stderr",
     "output_type": "stream",
     "text": [
      "C:\\Users\\MAHESH DESHMUKHE\\AppData\\Local\\Programs\\Python\\Python311\\Lib\\site-packages\\seaborn\\_oldcore.py:1119: FutureWarning: use_inf_as_na option is deprecated and will be removed in a future version. Convert inf values to NaN before operating instead.\n",
      "  with pd.option_context('mode.use_inf_as_na', True):\n",
      "C:\\Users\\MAHESH DESHMUKHE\\AppData\\Local\\Programs\\Python\\Python311\\Lib\\site-packages\\seaborn\\axisgrid.py:118: UserWarning: The figure layout has changed to tight\n",
      "  self._figure.tight_layout(*args, **kwargs)\n"
     ]
    },
    {
     "data": {
      "text/plain": [
       "<seaborn.axisgrid.FacetGrid at 0x22322318fd0>"
      ]
     },
     "execution_count": 22,
     "metadata": {},
     "output_type": "execute_result"
    },
    {
     "data": {
      "image/png": "[encoded data removed]",
      "text/plain": [
       "<Figure size 500x500 with 1 Axes>"
      ]
     },
     "metadata": {},
     "output_type": "display_data"
    }
   ],
   "source": [
    "sns.displot(test_residuals,bins=25,kde=True)"
   ]
  },
  {
   "cell_type": "code",
   "execution_count": 23,
   "id": "9b8989a7",
   "metadata": {},
   "outputs": [],
   "source": [
    "import scipy as sp"
   ]
  },
  {
   "cell_type": "code",
   "execution_count": 24,
   "id": "b8c8dd87",
   "metadata": {},
   "outputs": [
    {
     "data": {
      "image/png": "[encoded data removed]",
      "text/plain": [
       "<Figure size 600x800 with 1 Axes>"
      ]
     },
     "metadata": {},
     "output_type": "display_data"
    }
   ],
   "source": [
    "# Create a fig, axis plot:\n",
    "fig, ax = plt.subplots(figsize=(6,8),dpi=100)\n",
    "\n",
    "_ = sp.stats.probplot(test_residuals,plot=ax)\n",
    "\n"
   ]
  },
  {
   "cell_type": "code",
   "execution_count": 25,
   "id": "ba1c62a8",
   "metadata": {},
   "outputs": [],
   "source": [
    "# Polynomial Regression"
   ]
  },
  {
   "cell_type": "code",
   "execution_count": 26,
   "id": "583e7aed",
   "metadata": {},
   "outputs": [],
   "source": [
    "from sklearn.preprocessing import PolynomialFeatures"
   ]
  },
  {
   "cell_type": "code",
   "execution_count": 27,
   "id": "e7c7d43c",
   "metadata": {},
   "outputs": [],
   "source": [
    "\n",
    "polynomial_converter = PolynomialFeatures(degree=2,include_bias=False)"
   ]
  },
  {
   "cell_type": "code",
   "execution_count": 28,
   "id": "6a0e1561",
   "metadata": {},
   "outputs": [],
   "source": [
    "poly_features = polynomial_converter.fit_transform(X1)"
   ]
  },
  {
   "cell_type": "code",
   "execution_count": 29,
   "id": "5623f783",
   "metadata": {},
   "outputs": [],
   "source": [
    " X_train, X_test, y_train, y_test = train_test_split(poly_features, y1, test_size=0.2, random_state=101)"
   ]
  },
  {
   "cell_type": "code",
   "execution_count": 30,
   "id": "4da5b68b",
   "metadata": {},
   "outputs": [],
   "source": [
    "from sklearn.linear_model import LinearRegression"
   ]
  },
  {
   "cell_type": "code",
   "execution_count": 31,
   "id": "a6b9b513",
   "metadata": {},
   "outputs": [],
   "source": [
    "model = LinearRegression()"
   ]
  },
  {
   "cell_type": "code",
   "execution_count": 32,
   "id": "f3239048",
   "metadata": {},
   "outputs": [
    {
     "data": {
      "text/html": [
       "<style>#sk-container-id-2 {color: black;}#sk-container-id-2 pre{padding: 0;}#sk-container-id-2 div.sk-toggleable {background-color: white;}#sk-container-id-2 label.sk-toggleable__label {cursor: pointer;display: block;width: 100%;margin-bottom: 0;padding: 0.3em;box-sizing: border-box;text-align: center;}#sk-container-id-2 label.sk-toggleable__label-arrow:before {content: \"▸\";float: left;margin-right: 0.25em;color: #696969;}#sk-container-id-2 label.sk-toggleable__label-arrow:hover:before {color: black;}#sk-container-id-2 div.sk-estimator:hover label.sk-toggleable__label-arrow:before {color: black;}#sk-container-id-2 div.sk-toggleable__content {max-height: 0;max-width: 0;overflow: hidden;text-align: left;background-color: #f0f8ff;}#sk-container-id-2 div.sk-toggleable__content pre {margin: 0.2em;color: black;border-radius: 0.25em;background-color: #f0f8ff;}#sk-container-id-2 input.sk-toggleable__control:checked~div.sk-toggleable__content {max-height: 200px;max-width: 100%;overflow: auto;}#sk-container-id-2 input.sk-toggleable__control:checked~label.sk-toggleable__label-arrow:before {content: \"▾\";}#sk-container-id-2 div.sk-estimator input.sk-toggleable__control:checked~label.sk-toggleable__label {background-color: #d4ebff;}#sk-container-id-2 div.sk-label input.sk-toggleable__control:checked~label.sk-toggleable__label {background-color: #d4ebff;}#sk-container-id-2 input.sk-hidden--visually {border: 0;clip: rect(1px 1px 1px 1px);clip: rect(1px, 1px, 1px, 1px);height: 1px;margin: -1px;overflow: hidden;padding: 0;position: absolute;width: 1px;}#sk-container-id-2 div.sk-estimator {font-family: monospace;background-color: #f0f8ff;border: 1px dotted black;border-radius: 0.25em;box-sizing: border-box;margin-bottom: 0.5em;}#sk-container-id-2 div.sk-estimator:hover {background-color: #d4ebff;}#sk-container-id-2 div.sk-parallel-item::after {content: \"\";width: 100%;border-bottom: 1px solid gray;flex-grow: 1;}#sk-container-id-2 div.sk-label:hover label.sk-toggleable__label {background-color: #d4ebff;}#sk-container-id-2 div.sk-serial::before {content: \"\";position: absolute;border-left: 1px solid gray;box-sizing: border-box;top: 0;bottom: 0;left: 50%;z-index: 0;}#sk-container-id-2 div.sk-serial {display: flex;flex-direction: column;align-items: center;background-color: white;padding-right: 0.2em;padding-left: 0.2em;position: relative;}#sk-container-id-2 div.sk-item {position: relative;z-index: 1;}#sk-container-id-2 div.sk-parallel {display: flex;align-items: stretch;justify-content: center;background-color: white;position: relative;}#sk-container-id-2 div.sk-item::before, #sk-container-id-2 div.sk-parallel-item::before {content: \"\";position: absolute;border-left: 1px solid gray;box-sizing: border-box;top: 0;bottom: 0;left: 50%;z-index: -1;}#sk-container-id-2 div.sk-parallel-item {display: flex;flex-direction: column;z-index: 1;position: relative;background-color: white;}#sk-container-id-2 div.sk-parallel-item:first-child::after {align-self: flex-end;width: 50%;}#sk-container-id-2 div.sk-parallel-item:last-child::after {align-self: flex-start;width: 50%;}#sk-container-id-2 div.sk-parallel-item:only-child::after {width: 0;}#sk-container-id-2 div.sk-dashed-wrapped {border: 1px dashed gray;margin: 0 0.4em 0.5em 0.4em;box-sizing: border-box;padding-bottom: 0.4em;background-color: white;}#sk-container-id-2 div.sk-label label {font-family: monospace;font-weight: bold;display: inline-block;line-height: 1.2em;}#sk-container-id-2 div.sk-label-container {text-align: center;}#sk-container-id-2 div.sk-container {/* jupyter's `normalize.less` sets `[hidden] { display: none; }` but bootstrap.min.css set `[hidden] { display: none !important; }` so we also need the `!important` here to be able to override the default hidden behavior on the sphinx rendered scikit-learn.org. See: https://github.com/scikit-learn/scikit-learn/issues/21755 */display: inline-block !important;position: relative;}#sk-container-id-2 div.sk-text-repr-fallback {display: none;}</style><div id=\"sk-container-id-2\" class=\"sk-top-container\"><div class=\"sk-text-repr-fallback\"><pre>LinearRegression()</pre><b>In a Jupyter environment, please rerun this cell to show the HTML representation or trust the notebook. <br />On GitHub, the HTML representation is unable to render, please try loading this page with nbviewer.org.</b></div><div class=\"sk-container\" hidden><div class=\"sk-item\"><div class=\"sk-estimator sk-toggleable\"><input class=\"sk-toggleable__control sk-hidden--visually\" id=\"sk-estimator-id-2\" type=\"checkbox\" checked><label for=\"sk-estimator-id-2\" class=\"sk-toggleable__label sk-toggleable__label-arrow\">LinearRegression</label><div class=\"sk-toggleable__content\"><pre>LinearRegression()</pre></div></div></div></div></div>"
      ],
      "text/plain": [
       "LinearRegression()"
      ]
     },
     "execution_count": 32,
     "metadata": {},
     "output_type": "execute_result"
    }
   ],
   "source": [
    "model.fit(X_train,y_train)"
   ]
  },
  {
   "cell_type": "code",
   "execution_count": 33,
   "id": "a5eae405",
   "metadata": {},
   "outputs": [],
   "source": [
    "test_predictions = model.predict(X_test)"
   ]
  },
  {
   "cell_type": "code",
   "execution_count": 34,
   "id": "e4e5a0f0",
   "metadata": {},
   "outputs": [
    {
     "data": {
      "text/plain": [
       "array([ 6822286.93563557, 22028028.66726017,  1609874.52420902, ...,\n",
       "       11937970.14277363, 23127589.87051487, 10844161.97873402])"
      ]
     },
     "execution_count": 34,
     "metadata": {},
     "output_type": "execute_result"
    }
   ],
   "source": [
    "test_predictions"
   ]
  },
  {
   "cell_type": "code",
   "execution_count": 35,
   "id": "dd974e92",
   "metadata": {},
   "outputs": [
    {
     "data": {
      "text/plain": [
       "array([ 2.08569932e+06,  2.41523665e+06, -3.02244196e+07,  5.27919402e+05,\n",
       "        2.71975711e+06, -5.84805795e+06,  2.51347969e+07, -2.65921682e+06,\n",
       "       -8.29199894e+10,  8.32490341e+06, -3.09188876e+07,  2.45635724e+04,\n",
       "        2.09424448e+02, -1.73918721e+02, -1.71495915e+04, -6.57541772e+01,\n",
       "       -1.51583998e+03, -6.56381793e+03,  5.48933901e+02,  7.99953676e+01,\n",
       "       -2.30497588e+06,  1.68738581e+03,  1.79052571e+04, -6.46237181e+00,\n",
       "        9.82766742e+02, -2.68166429e+04, -2.72458586e+02, -3.56719193e+03,\n",
       "       -1.11253257e+04, -4.93720348e+03,  3.27796989e+02, -6.42088961e+06,\n",
       "        3.50523637e+03,  2.38327984e+04,  8.89030838e+00, -2.16732982e+05,\n",
       "       -8.07929961e+03, -5.13374276e+05, -3.95399842e+05, -1.80163790e+05,\n",
       "        8.75294069e+03,  3.94062444e+08,  5.83346289e+04,  1.31229431e+06,\n",
       "        3.02864948e+02, -1.46795607e+01, -2.45060044e+03, -1.52504331e+03,\n",
       "       -1.09796840e+03,  1.16330560e+02,  2.33160129e+05,  1.06678534e+03,\n",
       "        8.58718194e+03,  2.13119948e+00, -3.80448017e+04, -3.01634501e+05,\n",
       "       -9.82476309e+04, -1.76539837e+03,  2.68238838e+07,  4.78925263e+04,\n",
       "        7.12557298e+05,  3.27904442e+02, -8.15368545e+04, -3.93457193e+04,\n",
       "        5.30432995e+03,  6.90139204e+07,  3.02766999e+04,  8.04720811e+05,\n",
       "        1.53357918e+02,  2.25004283e+03,  1.20326688e+03,  1.06873229e+07,\n",
       "        2.65764976e+04,  1.96708429e+05,  7.41224670e+00,  4.33904102e+01,\n",
       "        3.01370030e+05, -2.10656467e+03, -3.23236800e+03,  7.14270830e+00,\n",
       "        8.06895501e+08, -6.29873034e+07, -9.65217350e+07, -3.65513028e+04,\n",
       "       -1.22366369e+03, -1.58762575e+05, -2.75745621e+01, -1.15944491e+06,\n",
       "       -6.84193657e+02, -2.18017668e-01])"
      ]
     },
     "execution_count": 35,
     "metadata": {},
     "output_type": "execute_result"
    }
   ],
   "source": [
    "model.coef_"
   ]
  },
  {
   "cell_type": "code",
   "execution_count": 36,
   "id": "13dfeba9",
   "metadata": {},
   "outputs": [],
   "source": [
    "MAE = mean_absolute_error(y_test,test_predictions)"
   ]
  },
  {
   "cell_type": "code",
   "execution_count": 37,
   "id": "59d2e4f5",
   "metadata": {},
   "outputs": [
    {
     "data": {
      "text/plain": [
       "2293631.3235716247"
      ]
     },
     "execution_count": 37,
     "metadata": {},
     "output_type": "execute_result"
    }
   ],
   "source": [
    "MAE"
   ]
  },
  {
   "cell_type": "code",
   "execution_count": 38,
   "id": "0309852f",
   "metadata": {},
   "outputs": [
    {
     "data": {
      "text/plain": [
       "3269298.8512926046"
      ]
     },
     "execution_count": 38,
     "metadata": {},
     "output_type": "execute_result"
    }
   ],
   "source": [
    "np.sqrt(mean_squared_error(y_test,test_predictions))"
   ]
  },
  {
   "cell_type": "code",
   "execution_count": 39,
   "id": "8467197d",
   "metadata": {},
   "outputs": [],
   "source": [
    "from sklearn.linear_model import LassoCV"
   ]
  },
  {
   "cell_type": "code",
   "execution_count": 40,
   "id": "ca9db174",
   "metadata": {},
   "outputs": [],
   "source": [
    "lasso_cv_model = LassoCV(eps=0.1,n_alphas=100,cv=5)"
   ]
  },
  {
   "cell_type": "code",
   "execution_count": 41,
   "id": "98d658eb",
   "metadata": {},
   "outputs": [
    {
     "data": {
      "text/html": [
       "<style>#sk-container-id-3 {color: black;}#sk-container-id-3 pre{padding: 0;}#sk-container-id-3 div.sk-toggleable {background-color: white;}#sk-container-id-3 label.sk-toggleable__label {cursor: pointer;display: block;width: 100%;margin-bottom: 0;padding: 0.3em;box-sizing: border-box;text-align: center;}#sk-container-id-3 label.sk-toggleable__label-arrow:before {content: \"▸\";float: left;margin-right: 0.25em;color: #696969;}#sk-container-id-3 label.sk-toggleable__label-arrow:hover:before {color: black;}#sk-container-id-3 div.sk-estimator:hover label.sk-toggleable__label-arrow:before {color: black;}#sk-container-id-3 div.sk-toggleable__content {max-height: 0;max-width: 0;overflow: hidden;text-align: left;background-color: #f0f8ff;}#sk-container-id-3 div.sk-toggleable__content pre {margin: 0.2em;color: black;border-radius: 0.25em;background-color: #f0f8ff;}#sk-container-id-3 input.sk-toggleable__control:checked~div.sk-toggleable__content {max-height: 200px;max-width: 100%;overflow: auto;}#sk-container-id-3 input.sk-toggleable__control:checked~label.sk-toggleable__label-arrow:before {content: \"▾\";}#sk-container-id-3 div.sk-estimator input.sk-toggleable__control:checked~label.sk-toggleable__label {background-color: #d4ebff;}#sk-container-id-3 div.sk-label input.sk-toggleable__control:checked~label.sk-toggleable__label {background-color: #d4ebff;}#sk-container-id-3 input.sk-hidden--visually {border: 0;clip: rect(1px 1px 1px 1px);clip: rect(1px, 1px, 1px, 1px);height: 1px;margin: -1px;overflow: hidden;padding: 0;position: absolute;width: 1px;}#sk-container-id-3 div.sk-estimator {font-family: monospace;background-color: #f0f8ff;border: 1px dotted black;border-radius: 0.25em;box-sizing: border-box;margin-bottom: 0.5em;}#sk-container-id-3 div.sk-estimator:hover {background-color: #d4ebff;}#sk-container-id-3 div.sk-parallel-item::after {content: \"\";width: 100%;border-bottom: 1px solid gray;flex-grow: 1;}#sk-container-id-3 div.sk-label:hover label.sk-toggleable__label {background-color: #d4ebff;}#sk-container-id-3 div.sk-serial::before {content: \"\";position: absolute;border-left: 1px solid gray;box-sizing: border-box;top: 0;bottom: 0;left: 50%;z-index: 0;}#sk-container-id-3 div.sk-serial {display: flex;flex-direction: column;align-items: center;background-color: white;padding-right: 0.2em;padding-left: 0.2em;position: relative;}#sk-container-id-3 div.sk-item {position: relative;z-index: 1;}#sk-container-id-3 div.sk-parallel {display: flex;align-items: stretch;justify-content: center;background-color: white;position: relative;}#sk-container-id-3 div.sk-item::before, #sk-container-id-3 div.sk-parallel-item::before {content: \"\";position: absolute;border-left: 1px solid gray;box-sizing: border-box;top: 0;bottom: 0;left: 50%;z-index: -1;}#sk-container-id-3 div.sk-parallel-item {display: flex;flex-direction: column;z-index: 1;position: relative;background-color: white;}#sk-container-id-3 div.sk-parallel-item:first-child::after {align-self: flex-end;width: 50%;}#sk-container-id-3 div.sk-parallel-item:last-child::after {align-self: flex-start;width: 50%;}#sk-container-id-3 div.sk-parallel-item:only-child::after {width: 0;}#sk-container-id-3 div.sk-dashed-wrapped {border: 1px dashed gray;margin: 0 0.4em 0.5em 0.4em;box-sizing: border-box;padding-bottom: 0.4em;background-color: white;}#sk-container-id-3 div.sk-label label {font-family: monospace;font-weight: bold;display: inline-block;line-height: 1.2em;}#sk-container-id-3 div.sk-label-container {text-align: center;}#sk-container-id-3 div.sk-container {/* jupyter's `normalize.less` sets `[hidden] { display: none; }` but bootstrap.min.css set `[hidden] { display: none !important; }` so we also need the `!important` here to be able to override the default hidden behavior on the sphinx rendered scikit-learn.org. See: https://github.com/scikit-learn/scikit-learn/issues/21755 */display: inline-block !important;position: relative;}#sk-container-id-3 div.sk-text-repr-fallback {display: none;}</style><div id=\"sk-container-id-3\" class=\"sk-top-container\"><div class=\"sk-text-repr-fallback\"><pre>LassoCV(cv=5, eps=0.1)</pre><b>In a Jupyter environment, please rerun this cell to show the HTML representation or trust the notebook. <br />On GitHub, the HTML representation is unable to render, please try loading this page with nbviewer.org.</b></div><div class=\"sk-container\" hidden><div class=\"sk-item\"><div class=\"sk-estimator sk-toggleable\"><input class=\"sk-toggleable__control sk-hidden--visually\" id=\"sk-estimator-id-3\" type=\"checkbox\" checked><label for=\"sk-estimator-id-3\" class=\"sk-toggleable__label sk-toggleable__label-arrow\">LassoCV</label><div class=\"sk-toggleable__content\"><pre>LassoCV(cv=5, eps=0.1)</pre></div></div></div></div></div>"
      ],
      "text/plain": [
       "LassoCV(cv=5, eps=0.1)"
      ]
     },
     "execution_count": 41,
     "metadata": {},
     "output_type": "execute_result"
    }
   ],
   "source": [
    "lasso_cv_model.fit(X_train,y_train)"
   ]
  },
  {
   "cell_type": "code",
   "execution_count": 42,
   "id": "5f273d56",
   "metadata": {},
   "outputs": [
    {
     "data": {
      "text/plain": [
       "23737587445711.9"
      ]
     },
     "execution_count": 42,
     "metadata": {},
     "output_type": "execute_result"
    }
   ],
   "source": [
    "lasso_cv_model.alpha_"
   ]
  },
  {
   "cell_type": "code",
   "execution_count": 43,
   "id": "cfbc4a64",
   "metadata": {},
   "outputs": [],
   "source": [
    "test_predictions = lasso_cv_model.predict(X_test)"
   ]
  },
  {
   "cell_type": "code",
   "execution_count": 44,
   "id": "c04dbf9b",
   "metadata": {},
   "outputs": [],
   "source": [
    "MAE = mean_absolute_error(y_test,test_predictions)"
   ]
  },
  {
   "cell_type": "code",
   "execution_count": 45,
   "id": "2b3a69a0",
   "metadata": {},
   "outputs": [],
   "source": [
    "RMSE = np.sqrt(mean_squared_error(y_test,test_predictions))"
   ]
  },
  {
   "cell_type": "code",
   "execution_count": 46,
   "id": "98e22eae",
   "metadata": {},
   "outputs": [
    {
     "data": {
      "text/plain": [
       "3324991.260516471"
      ]
     },
     "execution_count": 46,
     "metadata": {},
     "output_type": "execute_result"
    }
   ],
   "source": [
    "MAE"
   ]
  },
  {
   "cell_type": "code",
   "execution_count": 47,
   "id": "d38ed599",
   "metadata": {},
   "outputs": [
    {
     "data": {
      "text/plain": [
       "4211570.010970994"
      ]
     },
     "execution_count": 47,
     "metadata": {},
     "output_type": "execute_result"
    }
   ],
   "source": [
    "RMSE"
   ]
  },
  {
   "cell_type": "code",
   "execution_count": 48,
   "id": "aa3320bf",
   "metadata": {},
   "outputs": [],
   "source": [
    "\n",
    "from sklearn.linear_model import RidgeCV"
   ]
  },
  {
   "cell_type": "code",
   "execution_count": 49,
   "id": "bbbfdf47",
   "metadata": {},
   "outputs": [],
   "source": [
    "ridge_cv_model = RidgeCV(alphas=(0.1,1.0,10.0),scoring='neg_mean_absolute_error')"
   ]
  },
  {
   "cell_type": "code",
   "execution_count": 50,
   "id": "faf6e208",
   "metadata": {},
   "outputs": [
    {
     "data": {
      "text/html": [
       "<style>#sk-container-id-4 {color: black;}#sk-container-id-4 pre{padding: 0;}#sk-container-id-4 div.sk-toggleable {background-color: white;}#sk-container-id-4 label.sk-toggleable__label {cursor: pointer;display: block;width: 100%;margin-bottom: 0;padding: 0.3em;box-sizing: border-box;text-align: center;}#sk-container-id-4 label.sk-toggleable__label-arrow:before {content: \"▸\";float: left;margin-right: 0.25em;color: #696969;}#sk-container-id-4 label.sk-toggleable__label-arrow:hover:before {color: black;}#sk-container-id-4 div.sk-estimator:hover label.sk-toggleable__label-arrow:before {color: black;}#sk-container-id-4 div.sk-toggleable__content {max-height: 0;max-width: 0;overflow: hidden;text-align: left;background-color: #f0f8ff;}#sk-container-id-4 div.sk-toggleable__content pre {margin: 0.2em;color: black;border-radius: 0.25em;background-color: #f0f8ff;}#sk-container-id-4 input.sk-toggleable__control:checked~div.sk-toggleable__content {max-height: 200px;max-width: 100%;overflow: auto;}#sk-container-id-4 input.sk-toggleable__control:checked~label.sk-toggleable__label-arrow:before {content: \"▾\";}#sk-container-id-4 div.sk-estimator input.sk-toggleable__control:checked~label.sk-toggleable__label {background-color: #d4ebff;}#sk-container-id-4 div.sk-label input.sk-toggleable__control:checked~label.sk-toggleable__label {background-color: #d4ebff;}#sk-container-id-4 input.sk-hidden--visually {border: 0;clip: rect(1px 1px 1px 1px);clip: rect(1px, 1px, 1px, 1px);height: 1px;margin: -1px;overflow: hidden;padding: 0;position: absolute;width: 1px;}#sk-container-id-4 div.sk-estimator {font-family: monospace;background-color: #f0f8ff;border: 1px dotted black;border-radius: 0.25em;box-sizing: border-box;margin-bottom: 0.5em;}#sk-container-id-4 div.sk-estimator:hover {background-color: #d4ebff;}#sk-container-id-4 div.sk-parallel-item::after {content: \"\";width: 100%;border-bottom: 1px solid gray;flex-grow: 1;}#sk-container-id-4 div.sk-label:hover label.sk-toggleable__label {background-color: #d4ebff;}#sk-container-id-4 div.sk-serial::before {content: \"\";position: absolute;border-left: 1px solid gray;box-sizing: border-box;top: 0;bottom: 0;left: 50%;z-index: 0;}#sk-container-id-4 div.sk-serial {display: flex;flex-direction: column;align-items: center;background-color: white;padding-right: 0.2em;padding-left: 0.2em;position: relative;}#sk-container-id-4 div.sk-item {position: relative;z-index: 1;}#sk-container-id-4 div.sk-parallel {display: flex;align-items: stretch;justify-content: center;background-color: white;position: relative;}#sk-container-id-4 div.sk-item::before, #sk-container-id-4 div.sk-parallel-item::before {content: \"\";position: absolute;border-left: 1px solid gray;box-sizing: border-box;top: 0;bottom: 0;left: 50%;z-index: -1;}#sk-container-id-4 div.sk-parallel-item {display: flex;flex-direction: column;z-index: 1;position: relative;background-color: white;}#sk-container-id-4 div.sk-parallel-item:first-child::after {align-self: flex-end;width: 50%;}#sk-container-id-4 div.sk-parallel-item:last-child::after {align-self: flex-start;width: 50%;}#sk-container-id-4 div.sk-parallel-item:only-child::after {width: 0;}#sk-container-id-4 div.sk-dashed-wrapped {border: 1px dashed gray;margin: 0 0.4em 0.5em 0.4em;box-sizing: border-box;padding-bottom: 0.4em;background-color: white;}#sk-container-id-4 div.sk-label label {font-family: monospace;font-weight: bold;display: inline-block;line-height: 1.2em;}#sk-container-id-4 div.sk-label-container {text-align: center;}#sk-container-id-4 div.sk-container {/* jupyter's `normalize.less` sets `[hidden] { display: none; }` but bootstrap.min.css set `[hidden] { display: none !important; }` so we also need the `!important` here to be able to override the default hidden behavior on the sphinx rendered scikit-learn.org. See: https://github.com/scikit-learn/scikit-learn/issues/21755 */display: inline-block !important;position: relative;}#sk-container-id-4 div.sk-text-repr-fallback {display: none;}</style><div id=\"sk-container-id-4\" class=\"sk-top-container\"><div class=\"sk-text-repr-fallback\"><pre>RidgeCV(scoring=&#x27;neg_mean_absolute_error&#x27;)</pre><b>In a Jupyter environment, please rerun this cell to show the HTML representation or trust the notebook. <br />On GitHub, the HTML representation is unable to render, please try loading this page with nbviewer.org.</b></div><div class=\"sk-container\" hidden><div class=\"sk-item\"><div class=\"sk-estimator sk-toggleable\"><input class=\"sk-toggleable__control sk-hidden--visually\" id=\"sk-estimator-id-4\" type=\"checkbox\" checked><label for=\"sk-estimator-id-4\" class=\"sk-toggleable__label sk-toggleable__label-arrow\">RidgeCV</label><div class=\"sk-toggleable__content\"><pre>RidgeCV(scoring=&#x27;neg_mean_absolute_error&#x27;)</pre></div></div></div></div></div>"
      ],
      "text/plain": [
       "RidgeCV(scoring='neg_mean_absolute_error')"
      ]
     },
     "execution_count": 50,
     "metadata": {},
     "output_type": "execute_result"
    }
   ],
   "source": [
    "ridge_cv_model.fit(X_train,y_train)"
   ]
  },
  {
   "cell_type": "code",
   "execution_count": 51,
   "id": "4b42eb59",
   "metadata": {},
   "outputs": [
    {
     "data": {
      "text/plain": [
       "0.1"
      ]
     },
     "execution_count": 51,
     "metadata": {},
     "output_type": "execute_result"
    }
   ],
   "source": [
    "ridge_cv_model.alpha_"
   ]
  },
  {
   "cell_type": "code",
   "execution_count": 52,
   "id": "92231c28",
   "metadata": {},
   "outputs": [],
   "source": [
    "test_predictions = ridge_cv_model.predict(X_test)"
   ]
  },
  {
   "cell_type": "code",
   "execution_count": 53,
   "id": "90636eb0",
   "metadata": {},
   "outputs": [],
   "source": [
    "MAE = mean_absolute_error(y_test,test_predictions)"
   ]
  },
  {
   "cell_type": "code",
   "execution_count": 54,
   "id": "baf50c0a",
   "metadata": {},
   "outputs": [],
   "source": [
    "RMSE = np.sqrt(mean_squared_error(y_test,test_predictions))"
   ]
  },
  {
   "cell_type": "code",
   "execution_count": 55,
   "id": "cc3c1623",
   "metadata": {},
   "outputs": [
    {
     "data": {
      "text/plain": [
       "593235863800262.8"
      ]
     },
     "execution_count": 55,
     "metadata": {},
     "output_type": "execute_result"
    }
   ],
   "source": [
    "MAE"
   ]
  },
  {
   "cell_type": "code",
   "execution_count": 56,
   "id": "6b894866",
   "metadata": {},
   "outputs": [
    {
     "data": {
      "text/plain": [
       "770116361232921.0"
      ]
     },
     "execution_count": 56,
     "metadata": {},
     "output_type": "execute_result"
    }
   ],
   "source": [
    "RMSE"
   ]
  },
  {
   "cell_type": "code",
   "execution_count": 2,
   "id": "2ed7bf7b-e8ca-456c-b484-c6c8668dcff9",
   "metadata": {},
   "outputs": [
    {
     "name": "stdout",
     "output_type": "stream",
     "text": [
      "Requirement already satisfied: lime in c:\\users\\mahesh deshmukhe\\appdata\\local\\programs\\python\\python39\\lib\\site-packages (0.2.0.1)\n",
      "Requirement already satisfied: matplotlib in c:\\users\\mahesh deshmukhe\\appdata\\local\\programs\\python\\python39\\lib\\site-packages (from lime) (3.8.4)\n",
      "Requirement already satisfied: numpy in c:\\users\\mahesh deshmukhe\\appdata\\local\\programs\\python\\python39\\lib\\site-packages (from lime) (1.26.4)\n",
      "Requirement already satisfied: scipy in c:\\users\\mahesh deshmukhe\\appdata\\local\\programs\\python\\python39\\lib\\site-packages (from lime) (1.13.0)\n",
      "Requirement already satisfied: tqdm in c:\\users\\mahesh deshmukhe\\appdata\\local\\programs\\python\\python39\\lib\\site-packages (from lime) (4.66.2)\n",
      "Requirement already satisfied: scikit-learn>=0.18 in c:\\users\\mahesh deshmukhe\\appdata\\local\\programs\\python\\python39\\lib\\site-packages (from lime) (1.4.2)\n",
      "Requirement already satisfied: scikit-image>=0.12 in c:\\users\\mahesh deshmukhe\\appdata\\local\\programs\\python\\python39\\lib\\site-packages (from lime) (0.22.0)\n",
      "Requirement already satisfied: packaging>=21 in c:\\users\\mahesh deshmukhe\\appdata\\local\\programs\\python\\python39\\lib\\site-packages (from scikit-image>=0.12->lime) (24.0)\n",
      "Requirement already satisfied: imageio>=2.27 in c:\\users\\mahesh deshmukhe\\appdata\\local\\programs\\python\\python39\\lib\\site-packages (from scikit-image>=0.12->lime) (2.34.0)\n",
      "Requirement already satisfied: lazy_loader>=0.3 in c:\\users\\mahesh deshmukhe\\appdata\\local\\programs\\python\\python39\\lib\\site-packages (from scikit-image>=0.12->lime) (0.4)\n",
      "Requirement already satisfied: networkx>=2.8 in c:\\users\\mahesh deshmukhe\\appdata\\local\\programs\\python\\python39\\lib\\site-packages (from scikit-image>=0.12->lime) (3.2.1)\n",
      "Requirement already satisfied: pillow>=9.0.1 in c:\\users\\mahesh deshmukhe\\appdata\\local\\programs\\python\\python39\\lib\\site-packages (from scikit-image>=0.12->lime) (10.3.0)\n",
      "Requirement already satisfied: tifffile>=2022.8.12 in c:\\users\\mahesh deshmukhe\\appdata\\local\\programs\\python\\python39\\lib\\site-packages (from scikit-image>=0.12->lime) (2024.4.18)\n",
      "Requirement already satisfied: joblib>=1.2.0 in c:\\users\\mahesh deshmukhe\\appdata\\local\\programs\\python\\python39\\lib\\site-packages (from scikit-learn>=0.18->lime) (1.4.0)\n",
      "Requirement already satisfied: threadpoolctl>=2.0.0 in c:\\users\\mahesh deshmukhe\\appdata\\local\\programs\\python\\python39\\lib\\site-packages (from scikit-learn>=0.18->lime) (3.4.0)\n",
      "Requirement already satisfied: python-dateutil>=2.7 in c:\\users\\mahesh deshmukhe\\appdata\\local\\programs\\python\\python39\\lib\\site-packages (from matplotlib->lime) (2.9.0.post0)\n",
      "Requirement already satisfied: pyparsing>=2.3.1 in c:\\users\\mahesh deshmukhe\\appdata\\local\\programs\\python\\python39\\lib\\site-packages (from matplotlib->lime) (3.1.2)\n",
      "Requirement already satisfied: importlib-resources>=3.2.0 in c:\\users\\mahesh deshmukhe\\appdata\\local\\programs\\python\\python39\\lib\\site-packages (from matplotlib->lime) (6.4.0)\n",
      "Requirement already satisfied: contourpy>=1.0.1 in c:\\users\\mahesh deshmukhe\\appdata\\local\\programs\\python\\python39\\lib\\site-packages (from matplotlib->lime) (1.2.1)\n",
      "Requirement already satisfied: cycler>=0.10 in c:\\users\\mahesh deshmukhe\\appdata\\local\\programs\\python\\python39\\lib\\site-packages (from matplotlib->lime) (0.12.1)\n",
      "Requirement already satisfied: kiwisolver>=1.3.1 in c:\\users\\mahesh deshmukhe\\appdata\\local\\programs\\python\\python39\\lib\\site-packages (from matplotlib->lime) (1.4.5)\n",
      "Requirement already satisfied: fonttools>=4.22.0 in c:\\users\\mahesh deshmukhe\\appdata\\local\\programs\\python\\python39\\lib\\site-packages (from matplotlib->lime) (4.51.0)\n",
      "Requirement already satisfied: colorama in c:\\users\\mahesh deshmukhe\\appdata\\local\\programs\\python\\python39\\lib\\site-packages (from tqdm->lime) (0.4.6)\n",
      "Requirement already satisfied: zipp>=3.1.0 in c:\\users\\mahesh deshmukhe\\appdata\\local\\programs\\python\\python39\\lib\\site-packages (from importlib-resources>=3.2.0->matplotlib->lime) (3.18.1)\n",
      "Requirement already satisfied: six>=1.5 in c:\\users\\mahesh deshmukhe\\appdata\\local\\programs\\python\\python39\\lib\\site-packages (from python-dateutil>=2.7->matplotlib->lime) (1.16.0)\n"
     ]
    },
    {
     "name": "stderr",
     "output_type": "stream",
     "text": [
      "WARNING: You are using pip version 22.0.4; however, version 24.0 is available.\n",
      "You should consider upgrading via the 'C:\\Users\\MAHESH DESHMUKHE\\AppData\\Local\\Programs\\Python\\Python39\\python.exe -m pip install --upgrade pip' command.\n"
     ]
    }
   ],
   "source": [
    "!pip install lime\n"
   ]
  },
  {
   "cell_type": "code",
   "execution_count": 3,
   "id": "844a8932",
   "metadata": {},
   "outputs": [
    {
     "ename": "ModuleNotFoundError",
     "evalue": "No module named 'lime'",
     "output_type": "error",
     "traceback": [
      "\u001b[1;31m---------------------------------------------------------------------------\u001b[0m",
      "\u001b[1;31mModuleNotFoundError\u001b[0m                       Traceback (most recent call last)",
      "Cell \u001b[1;32mIn[3], line 1\u001b[0m\n\u001b[1;32m----> 1\u001b[0m \u001b[38;5;28;01mimport\u001b[39;00m \u001b[38;5;21;01mlime\u001b[39;00m\n\u001b[0;32m      2\u001b[0m \u001b[38;5;28;01mimport\u001b[39;00m \u001b[38;5;21;01mlime\u001b[39;00m\u001b[38;5;21;01m.\u001b[39;00m\u001b[38;5;21;01mlime_tabular\u001b[39;00m\n",
      "\u001b[1;31mModuleNotFoundError\u001b[0m: No module named 'lime'"
     ]
    }
   ],
   "source": [
    "import lime\n",
    "import lime.lime_tabular"
   ]
  },
  {
   "cell_type": "code",
   "execution_count": null,
   "id": "f647d584-ffe6-496d-9d4f-cdad1beac8a1",
   "metadata": {},
   "outputs": [],
   "source": []
  }
 ],
 "metadata": {
  "kernelspec": {
   "display_name": "Python 3",
   "language": "python",
   "name": "python3"
  },
  "language_info": {
   "codemirror_mode": {
    "name": "ipython",
    "version": 3
   },
   "file_extension": ".py",
   "mimetype": "text/x-python",
   "name": "python",
   "nbconvert_exporter": "python",
   "pygments_lexer": "ipython3",
   "version": "3.11.2"
  }
 },
 "nbformat": 4,
 "nbformat_minor": 5
}
